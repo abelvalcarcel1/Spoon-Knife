{
  "nbformat": 4,
  "nbformat_minor": 0,
  "metadata": {
    "kernelspec": {
      "display_name": "Python 3",
      "language": "python",
      "name": "python3"
    },
    "language_info": {
      "codemirror_mode": {
        "name": "ipython",
        "version": 3
      },
      "file_extension": ".py",
      "mimetype": "text/x-python",
      "name": "python",
      "nbconvert_exporter": "python",
      "pygments_lexer": "ipython3",
      "version": "3.7.7"
    },
    "colab": {
      "name": "diccionarios.ipynb",
      "provenance": [],
      "include_colab_link": true
    }
  },
  "cells": [
    {
      "cell_type": "markdown",
      "metadata": {
        "id": "view-in-github",
        "colab_type": "text"
      },
      "source": [
        "<a href=\"https://colab.research.google.com/github/abelvalcarcel1/Spoon-Knife/blob/master/diccionarios.ipynb\" target=\"_parent\"><img src=\"https://colab.research.google.com/assets/colab-badge.svg\" alt=\"Open In Colab\"/></a>"
      ]
    },
    {
      "cell_type": "markdown",
      "metadata": {
        "id": "T4_Iek0U2ZAM"
      },
      "source": [
        "# Diccionarios\n",
        "\n",
        "Son conjuntos de *clave* - *valor* no ordenados. La *clave* de un diccionario tiene que ser *inmutable* y *única* dentro del diccionario. Mientras que el *valor* puede ser cualquier objeto válido en Python.\n",
        "Se defininen entre llaves (`{}`), los conjuntos de clave-valor van separados por comas (`,`) y las claves van separadas de los valores por dos puntos (`:`)."
      ]
    },
    {
      "cell_type": "code",
      "metadata": {
        "id": "NuJZdj5S2ZAO",
        "outputId": "b1827246-c192-457b-c443-0d268d03a7b6"
      },
      "source": [
        "persona = {\"nombre\": \"Leandro\", \"apellido\": \"Colombo Viña\", \"edad\": 38}\n",
        "persona"
      ],
      "execution_count": null,
      "outputs": [
        {
          "output_type": "execute_result",
          "data": {
            "text/plain": [
              "{'nombre': 'Leandro', 'apellido': 'Colombo Viña', 'edad': 38}"
            ]
          },
          "metadata": {
            "tags": []
          },
          "execution_count": 1
        }
      ]
    },
    {
      "cell_type": "markdown",
      "metadata": {
        "id": "qOxiNTwt2ZAQ"
      },
      "source": [
        "Los elementos del diccionario se acceden con el nombre del diccionario y su índice. Es decir, su *clave*."
      ]
    },
    {
      "cell_type": "code",
      "metadata": {
        "id": "53fSvfi82ZAQ",
        "outputId": "b9fcb5f9-8770-458a-8664-9d36862fe976"
      },
      "source": [
        "persona[\"apellido\"]"
      ],
      "execution_count": null,
      "outputs": [
        {
          "output_type": "execute_result",
          "data": {
            "text/plain": [
              "'Colombo Viña'"
            ]
          },
          "metadata": {
            "tags": []
          },
          "execution_count": 2
        }
      ]
    },
    {
      "cell_type": "markdown",
      "metadata": {
        "id": "IEmfZp6b2ZAR"
      },
      "source": [
        "Y son modificables:"
      ]
    },
    {
      "cell_type": "code",
      "metadata": {
        "id": "nC1MKD_I2ZAR",
        "outputId": "542acd62-4627-4349-b93b-f6cbef29f322"
      },
      "source": [
        "persona[\"nombre\"] = \"Leandro Enrique\"\n",
        "persona"
      ],
      "execution_count": null,
      "outputs": [
        {
          "output_type": "execute_result",
          "data": {
            "text/plain": [
              "{'nombre': 'Leandro Enrique', 'apellido': 'Colombo Viña', 'edad': 38}"
            ]
          },
          "metadata": {
            "tags": []
          },
          "execution_count": 4
        }
      ]
    },
    {
      "cell_type": "markdown",
      "metadata": {
        "id": "aqEtmzar2ZAR"
      },
      "source": [
        "Si una clave no existe en el diccionario, y le asignamos un valor, este nuevo conjunto se creará:"
      ]
    },
    {
      "cell_type": "code",
      "metadata": {
        "id": "P4RIf4Ol2ZAS",
        "outputId": "e0dd50db-ceec-4415-d81e-f5208e42e1cb"
      },
      "source": [
        "persona[\"documento\"] = 12355678\n",
        "persona"
      ],
      "execution_count": null,
      "outputs": [
        {
          "output_type": "execute_result",
          "data": {
            "text/plain": [
              "{'nombre': 'Leandro Enrique',\n",
              " 'apellido': 'Colombo Viña',\n",
              " 'edad': 38,\n",
              " 'documento': 12355678}"
            ]
          },
          "metadata": {
            "tags": []
          },
          "execution_count": 5
        }
      ]
    },
    {
      "cell_type": "markdown",
      "metadata": {
        "id": "_1-HXmD82ZAT"
      },
      "source": [
        "Si tratamos de acceder a una clave que no existe en el diccionario, Python nos avisará con un error del tipo `KeyError`"
      ]
    },
    {
      "cell_type": "code",
      "metadata": {
        "id": "-utp6oEP2ZAT",
        "outputId": "990ee1be-2996-45b1-de4c-adde2de31325"
      },
      "source": [
        "persona[\"Direccion\"]"
      ],
      "execution_count": null,
      "outputs": [
        {
          "output_type": "error",
          "ename": "KeyError",
          "evalue": "'Direccion'",
          "traceback": [
            "\u001b[0;31m---------------------------------------------------------------------------\u001b[0m",
            "\u001b[0;31mKeyError\u001b[0m                                  Traceback (most recent call last)",
            "\u001b[0;32m<ipython-input-9-6cf686e1fb1b>\u001b[0m in \u001b[0;36m<module>\u001b[0;34m\u001b[0m\n\u001b[0;32m----> 1\u001b[0;31m \u001b[0mpersona\u001b[0m\u001b[0;34m[\u001b[0m\u001b[0;34m\"Direccion\"\u001b[0m\u001b[0;34m]\u001b[0m\u001b[0;34m\u001b[0m\u001b[0;34m\u001b[0m\u001b[0m\n\u001b[0m",
            "\u001b[0;31mKeyError\u001b[0m: 'Direccion'"
          ]
        }
      ]
    },
    {
      "cell_type": "markdown",
      "metadata": {
        "id": "3bFB1t_w2ZAU"
      },
      "source": [
        "## Métodos en los diccionarios\n",
        "\n",
        "Si queremos ver qué claves tiene un diccionario:"
      ]
    },
    {
      "cell_type": "code",
      "metadata": {
        "id": "TjdLAtfE2ZAU",
        "outputId": "0582e78f-5970-4e08-8bef-481f2a7f1ff6"
      },
      "source": [
        "persona.keys()"
      ],
      "execution_count": null,
      "outputs": [
        {
          "output_type": "execute_result",
          "data": {
            "text/plain": [
              "dict_keys(['nombre', 'apellido', 'edad', 'documento'])"
            ]
          },
          "metadata": {
            "tags": []
          },
          "execution_count": 6
        }
      ]
    },
    {
      "cell_type": "markdown",
      "metadata": {
        "id": "QQXilU3u2ZAU"
      },
      "source": [
        "Si queremos ver sus valores:"
      ]
    },
    {
      "cell_type": "code",
      "metadata": {
        "id": "GNsFCDB62ZAV",
        "outputId": "64631c28-41c0-443f-a8a7-906edbf652e0"
      },
      "source": [
        "persona.values()"
      ],
      "execution_count": null,
      "outputs": [
        {
          "output_type": "execute_result",
          "data": {
            "text/plain": [
              "dict_values(['Leandro Enrique', 'Colombo Viña', 38, 12355678])"
            ]
          },
          "metadata": {
            "tags": []
          },
          "execution_count": 7
        }
      ]
    },
    {
      "cell_type": "markdown",
      "metadata": {
        "id": "zDA4vRuo2ZAV"
      },
      "source": [
        "Y si queremos ver los conjuntos de clave-valor:"
      ]
    },
    {
      "cell_type": "code",
      "metadata": {
        "id": "LSvXd_4v2ZAV",
        "outputId": "00188573-a268-4c0a-9e69-59c0410da010"
      },
      "source": [
        "persona.items()"
      ],
      "execution_count": null,
      "outputs": [
        {
          "output_type": "execute_result",
          "data": {
            "text/plain": [
              "dict_items([('nombre', 'Leandro Enrique'), ('apellido', 'Colombo Viña'), ('edad', 38), ('documento', 12355678)])"
            ]
          },
          "metadata": {
            "tags": []
          },
          "execution_count": 8
        }
      ]
    },
    {
      "cell_type": "markdown",
      "metadata": {
        "id": "sTbvWtic2ZAV"
      },
      "source": [
        "Si queremos limpiar el diccionario:"
      ]
    },
    {
      "cell_type": "code",
      "metadata": {
        "id": "VeaEIMCN2ZAW",
        "outputId": "ade7953d-ae94-42bb-f9b0-1ce0e39ad8ac"
      },
      "source": [
        "persona.clear()\n",
        "persona"
      ],
      "execution_count": null,
      "outputs": [
        {
          "output_type": "execute_result",
          "data": {
            "text/plain": [
              "{}"
            ]
          },
          "metadata": {
            "tags": []
          },
          "execution_count": 11
        }
      ]
    },
    {
      "cell_type": "markdown",
      "metadata": {
        "id": "qgdvY9UY2ZAW"
      },
      "source": [
        "## Ahora te toca a vos!\n",
        "\n",
        "Creá un diccionario con mis datos, y actualizá ese diccionario con los tuyos:"
      ]
    },
    {
      "cell_type": "code",
      "metadata": {
        "id": "AdFAWqEv2ZAW"
      },
      "source": [
        ""
      ],
      "execution_count": null,
      "outputs": []
    },
    {
      "cell_type": "markdown",
      "metadata": {
        "id": "lo1WhsLK2ZAW"
      },
      "source": [
        "Ahora probá con el método `update()`:"
      ]
    },
    {
      "cell_type": "code",
      "metadata": {
        "id": "go1mEGG02ZAW"
      },
      "source": [
        ""
      ],
      "execution_count": null,
      "outputs": []
    }
  ]
}